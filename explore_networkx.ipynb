{
 "cells": [
  {
   "cell_type": "code",
   "execution_count": 1,
   "metadata": {},
   "outputs": [],
   "source": [
    "import networkx as nx\n",
    "import matplotlib.pyplot as plt\n",
    "import matplotlib.pylab as pylab\n",
    "import seaborn as sns\n",
    "\n",
    "# Configure visualizations\n",
    "%matplotlib inline\n",
    "sns.set_style('ticks')\n",
    "palette = [\"#1E88E5\", \"#43A047\", \"#e53935\", \"#5E35B1\", \"#FFB300\", \"#00ACC1\", \"#3949AB\", \"#F4511E\"]\n",
    "sns.set_palette(palette)"
   ]
  },
  {
   "cell_type": "code",
   "execution_count": 2,
   "metadata": {},
   "outputs": [],
   "source": [
    "class InteractionNetwork(object):\n",
    "    \"\"\"Network specifying interactions between different genes, proteins, etc.\n",
    "    \"\"\"\n",
    "    def __init__(self):\n",
    "        self.graph = nx.Graph()\n",
    "\n",
    "    def add_interaction(self, node, edge):\n",
    "        self.graph.add_node(node)\n",
    "        self.graph.add_edge(edge)\n",
    "\n",
    "    def remove_interaction(self, node, edge):\n",
    "        self.graph.remove_node(node)\n",
    "        self.graph.remove_edge(edge)\n",
    "\n",
    "    def interact(self):\n",
    "        pass\n",
    "\n",
    "    def update(self):\n",
    "        map(lambda node: node.update(), self.graph.nodes)"
   ]
  },
  {
   "cell_type": "code",
   "execution_count": 3,
   "metadata": {},
   "outputs": [],
   "source": [
    "G = nx.Graph()"
   ]
  },
  {
   "cell_type": "code",
   "execution_count": 4,
   "metadata": {},
   "outputs": [],
   "source": [
    "G.add_nodes_from([\n",
    "    'gene_pCons_nMag_T7RNAPn',\n",
    "    'gene_pCons_pMag_T7RNAPc',\n",
    "    'gene_pT7_CAR',\n",
    "    'prot_nMag_T7RNAPn',\n",
    "    'prot_pMag_T7RNAPc',\n",
    "    'prot_Mag_T7RNAP',\n",
    "    'prot_CAR',\n",
    "    'prot_CAR_bound',\n",
    "    'metric_exhaustion',\n",
    "    'metric_resources',\n",
    "])"
   ]
  },
  {
   "cell_type": "code",
   "execution_count": 5,
   "metadata": {},
   "outputs": [
    {
     "data": {
      "text/plain": [
       "['gene_pCons_nMag_T7RNAPn',\n",
       " 'gene_pCons_pMag_T7RNAPc',\n",
       " 'gene_pT7_CAR',\n",
       " 'prot_nMag_T7RNAPn',\n",
       " 'prot_pMag_T7RNAPc',\n",
       " 'prot_Mag_T7RNAP',\n",
       " 'prot_CAR',\n",
       " 'prot_CAR_bound',\n",
       " 'metric_exhaustion',\n",
       " 'metric_resources']"
      ]
     },
     "execution_count": 5,
     "metadata": {},
     "output_type": "execute_result"
    }
   ],
   "source": [
    "list(G.nodes)"
   ]
  },
  {
   "cell_type": "code",
   "execution_count": 6,
   "metadata": {},
   "outputs": [],
   "source": [
    "def reactor(param):\n",
    "    pass"
   ]
  },
  {
   "cell_type": "code",
   "execution_count": 7,
   "metadata": {},
   "outputs": [],
   "source": [
    "G.add_edges_from([\n",
    "    ('gene_pCons_nMag_T7RNAPn', 'metric_resources', {'reactor': reactor(1.0)}),\n",
    "    ('gene_pCons_pMag_T7RNAPc', 'metric_resources', {'reactor': reactor(1.8)}),\n",
    "    ('prot_nMag_T7RNAPn', 'prot_pMag_T7RNAPc', {'reactor': reactor(0.1)}),\n",
    "    ('prot_Mag_T7RNAP', 'metric_resources', {'reactor': reactor(1.0)}),\n",
    "    ('prot_Mag_T7RNAP', 'gene_pT7_CAR', {'reactor': reactor(0.7)}),\n",
    "    ('gene_pT7_CAR', 'metric_resources', {'reactor': reactor(1.0)}),\n",
    "    ('metric_exhaustion', 'prot_CAR', {'reactor': reactor(-0.001)}),\n",
    "])"
   ]
  },
  {
   "cell_type": "code",
   "execution_count": 8,
   "metadata": {},
   "outputs": [
    {
     "data": {
      "image/png": "[encoded data removed]",
      "text/plain": [
       "<matplotlib.figure.Figure at 0x7f93d61317b8>"
      ]
     },
     "metadata": {},
     "output_type": "display_data"
    }
   ],
   "source": [
    "nx.draw(G, with_labels=True, font_weight='bold')"
   ]
  },
  {
   "cell_type": "code",
   "execution_count": null,
   "metadata": {},
   "outputs": [],
   "source": []
  }
 ],
 "metadata": {
  "kernelspec": {
   "display_name": "Python 3",
   "language": "python",
   "name": "python3"
  },
  "language_info": {
   "codemirror_mode": {
    "name": "ipython",
    "version": 3
   },
   "file_extension": ".py",
   "mimetype": "text/x-python",
   "name": "python",
   "nbconvert_exporter": "python",
   "pygments_lexer": "ipython3",
   "version": "3.6.4"
  }
 },
 "nbformat": 4,
 "nbformat_minor": 2
}
