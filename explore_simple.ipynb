{
 "cells": [
  {
   "cell_type": "code",
   "execution_count": 1,
   "metadata": {},
   "outputs": [],
   "source": [
    "import numpy as np"
   ]
  },
  {
   "cell_type": "code",
   "execution_count": 32,
   "metadata": {},
   "outputs": [],
   "source": [
    "components = {\n",
    "    'resources': {'type': 'state', 'value': 1000.0},\n",
    "    'growth': {'type': 'state', 'value': 0.0},\n",
    "    'light460nm': {'type': 'stimulus', 'value': 0.0},\n",
    "    'gene_nMag_T7RNAPn': {'type': 'gene', 'value': True},\n",
    "    'gene_pMag_T7RNAPc': {'type': 'gene', 'value': True},\n",
    "    'gene_pT7_CAR': {'type': 'gene', 'value': True},\n",
    "    'prot_nMag_T7RNAPn': {'type': 'protein', 'value': 0.0},\n",
    "    'prot_pMag_T7RNAPc': {'type': 'protein', 'value': 0.0},\n",
    "    'prot_Mag_T7RNAP': {'type': 'protein', 'value': 0.0},\n",
    "    'prot_CAR': {'type': 'protein', 'value': 0.0},\n",
    "    'prot_CAR_bound': {'type': 'protein', 'value': 0.0},\n",
    "}"
   ]
  },
  {
   "cell_type": "code",
   "execution_count": 33,
   "metadata": {},
   "outputs": [],
   "source": [
    "reactions = {\n",
    "    'constitutive nMag_T7RNAPn expression': {\n",
    "        'reactants': {'gene_nMag_T7RNAPn': 0.0, 'resources': -1.0},\n",
    "        'products': {'prot_nMag_T7RNAPn': 1.0},\n",
    "        'modifiers': None\n",
    "    },\n",
    "    'constitutive pMag_T7RNAPc expression': {\n",
    "        'reactants': {'gene_pMag_T7RNAPc': 0.0, 'resources': -1.0},\n",
    "        'products': {'prot_pMag_T7RNAPc': 1.0},\n",
    "        'modifiers': None\n",
    "    },\n",
    "    'light induced nMag-pMag dimerization': {\n",
    "        'reactants': {'prot_nMag_T7RNAPn': -1.0, 'prot_pMag_T7RNAPc': -1.0},\n",
    "        'products': {'prot_Mag_T7RNAP': 1.0},\n",
    "        'modifiers': {'light460nm': 'activator'}\n",
    "    },\n",
    "    'T7RNAP driven CAR expression': {\n",
    "        'reactants': {'resources': -1.0},\n",
    "        'products': {'prot_CAR': 1.0},\n",
    "        'modifiers': {'prot_Mag_T7RNAP': 'activator'}\n",
    "    },\n",
    "    'T-cell exhaustion': {\n",
    "        'reactants': {'prot_CAR': -1.0, 'resources': -1.0},\n",
    "        'products': None,\n",
    "        'modifiers': {'prot_CAR_bound': 'activator'}\n",
    "    },\n",
    "    'T-cell proliferation': {\n",
    "        'reactants': {'resources': -10.0},\n",
    "        'products': {'growth': 1.0},\n",
    "        'modifiers': None\n",
    "    },\n",
    "    'metabolism': {\n",
    "        'reactants': None,\n",
    "        'products': {'resources': 5.0},\n",
    "        'modifiers': None\n",
    "    },\n",
    "}"
   ]
  },
  {
   "cell_type": "code",
   "execution_count": 34,
   "metadata": {},
   "outputs": [],
   "source": [
    "class SubCellularNetwork(object):\n",
    "    \"\"\"Dynamics of subcellular components - genes, proteins, etc.\"\"\"\n",
    "    \n",
    "    def __init__(self):\n",
    "        self.components = {}\n",
    "        self.reactions = {}\n",
    "        \n",
    "    def add_components(self, components):\n",
    "        self.components.update(components)\n",
    "    \n",
    "    def remove_components(self, components):\n",
    "        [self.components.pop(component, None) for component in components]\n",
    "        \n",
    "    def add_reactions(self, reactions):\n",
    "        self.reactions.update(reactions)\n",
    "    \n",
    "    def remove_reactions(self, reactions):\n",
    "        [self.components.pop(reaction, None) for reaction in reactions]\n",
    "\n",
    "    def react(self, reactants, products, modifiers):\n",
    "        polarity_mapping = {'activator': 1.0, 'inhibitor': -1.0}\n",
    "        rate_modifier = 1.0\n",
    "        if modifiers:\n",
    "            for modifier, polarity in modifiers.items():\n",
    "                if type(self.components[modifier]['value']) == bool:\n",
    "                    rate_modifier = float(self.components[modifier]['value'])\n",
    "                else:\n",
    "                    rate_modifier = polarity_mapping[polarity] * np.tanh(self.components[modifier]['value'])\n",
    "        if reactants:\n",
    "            for reaction_name, reaction_rate in reactants.items():\n",
    "                self.components[reaction_name]['value'] += reaction_rate * rate_modifier\n",
    "        if products:\n",
    "            for product_name, product_rate in products.items():\n",
    "                self.components[product_name]['value'] += product_rate * rate_modifier\n",
    "            \n",
    "    def update(self):\n",
    "        [self.react(rxn['reactants'], rxn['products'], rxn['modifiers']) for rxn in self.reactions.values()]"
   ]
  },
  {
   "cell_type": "code",
   "execution_count": 35,
   "metadata": {},
   "outputs": [],
   "source": [
    "scn = SubCellularNetwork()"
   ]
  },
  {
   "cell_type": "code",
   "execution_count": 36,
   "metadata": {},
   "outputs": [],
   "source": [
    "scn.add_components(components)"
   ]
  },
  {
   "cell_type": "code",
   "execution_count": 37,
   "metadata": {},
   "outputs": [
    {
     "data": {
      "text/plain": [
       "{'gene_nMag_T7RNAPn': {'type': 'gene', 'value': True},\n",
       " 'gene_pMag_T7RNAPc': {'type': 'gene', 'value': True},\n",
       " 'gene_pT7_CAR': {'type': 'gene', 'value': True},\n",
       " 'growth': {'type': 'state', 'value': 0.0},\n",
       " 'light460nm': {'type': 'stimulus', 'value': 0.0},\n",
       " 'prot_CAR': {'type': 'protein', 'value': 0.0},\n",
       " 'prot_CAR_bound': {'type': 'protein', 'value': 0.0},\n",
       " 'prot_Mag_T7RNAP': {'type': 'protein', 'value': 0.0},\n",
       " 'prot_nMag_T7RNAPn': {'type': 'protein', 'value': 0.0},\n",
       " 'prot_pMag_T7RNAPc': {'type': 'protein', 'value': 0.0},\n",
       " 'resources': {'type': 'state', 'value': 1000.0}}"
      ]
     },
     "execution_count": 37,
     "metadata": {},
     "output_type": "execute_result"
    }
   ],
   "source": [
    "scn.components"
   ]
  },
  {
   "cell_type": "code",
   "execution_count": 38,
   "metadata": {},
   "outputs": [],
   "source": [
    "scn.add_reactions(reactions)"
   ]
  },
  {
   "cell_type": "code",
   "execution_count": 39,
   "metadata": {},
   "outputs": [
    {
     "data": {
      "text/plain": [
       "{'T-cell exhaustion': {'modifiers': {'prot_CAR_bound': 'activator'},\n",
       "  'products': None,\n",
       "  'reactants': {'prot_CAR': -1.0, 'resources': -1.0}},\n",
       " 'T-cell proliferation': {'modifiers': None,\n",
       "  'products': {'growth': 1.0},\n",
       "  'reactants': {'resources': -10.0}},\n",
       " 'T7RNAP driven CAR expression': {'modifiers': {'prot_Mag_T7RNAP': 'activator'},\n",
       "  'products': {'prot_CAR': 1.0},\n",
       "  'reactants': {'resources': -1.0}},\n",
       " 'constitutive nMag_T7RNAPn expression': {'modifiers': None,\n",
       "  'products': {'prot_nMag_T7RNAPn': 1.0},\n",
       "  'reactants': {'gene_nMag_T7RNAPn': 0.0, 'resources': -1.0}},\n",
       " 'constitutive pMag_T7RNAPc expression': {'modifiers': None,\n",
       "  'products': {'prot_pMag_T7RNAPc': 1.0},\n",
       "  'reactants': {'gene_pMag_T7RNAPc': 0.0, 'resources': -1.0}},\n",
       " 'light induced nMag-pMag dimerization': {'modifiers': {'light460nm': 'activator'},\n",
       "  'products': {'prot_Mag_T7RNAP': 1.0},\n",
       "  'reactants': {'prot_nMag_T7RNAPn': -1.0, 'prot_pMag_T7RNAPc': -1.0}},\n",
       " 'metabolism': {'modifiers': None,\n",
       "  'products': {'resources': 5.0},\n",
       "  'reactants': None}}"
      ]
     },
     "execution_count": 39,
     "metadata": {},
     "output_type": "execute_result"
    }
   ],
   "source": [
    "scn.reactions"
   ]
  },
  {
   "cell_type": "code",
   "execution_count": 43,
   "metadata": {},
   "outputs": [
    {
     "name": "stdout",
     "output_type": "stream",
     "text": [
      "26 µs ± 247 ns per loop (mean ± std. dev. of 7 runs, 10000 loops each)\n"
     ]
    }
   ],
   "source": [
    "%%timeit\n",
    "scn.update()"
   ]
  },
  {
   "cell_type": "code",
   "execution_count": 44,
   "metadata": {},
   "outputs": [
    {
     "data": {
      "text/plain": [
       "{'gene_nMag_T7RNAPn': {'type': 'gene', 'value': 1.0},\n",
       " 'gene_pMag_T7RNAPc': {'type': 'gene', 'value': 1.0},\n",
       " 'gene_pT7_CAR': {'type': 'gene', 'value': True},\n",
       " 'growth': {'type': 'state', 'value': 81113.0},\n",
       " 'light460nm': {'type': 'stimulus', 'value': 0.0},\n",
       " 'prot_CAR': {'type': 'protein', 'value': 0.0},\n",
       " 'prot_CAR_bound': {'type': 'protein', 'value': 0.0},\n",
       " 'prot_Mag_T7RNAP': {'type': 'protein', 'value': 0.0},\n",
       " 'prot_nMag_T7RNAPn': {'type': 'protein', 'value': 81113.0},\n",
       " 'prot_pMag_T7RNAPc': {'type': 'protein', 'value': 81113.0},\n",
       " 'resources': {'type': 'state', 'value': -566791.0}}"
      ]
     },
     "execution_count": 44,
     "metadata": {},
     "output_type": "execute_result"
    }
   ],
   "source": [
    "scn.components"
   ]
  },
  {
   "cell_type": "code",
   "execution_count": null,
   "metadata": {},
   "outputs": [],
   "source": [
    "# Need upper and lower bounds for components"
   ]
  }
 ],
 "metadata": {
  "kernelspec": {
   "display_name": "Python 3",
   "language": "python",
   "name": "python3"
  },
  "language_info": {
   "codemirror_mode": {
    "name": "ipython",
    "version": 3
   },
   "file_extension": ".py",
   "mimetype": "text/x-python",
   "name": "python",
   "nbconvert_exporter": "python",
   "pygments_lexer": "ipython3",
   "version": "3.6.4"
  }
 },
 "nbformat": 4,
 "nbformat_minor": 2
}
