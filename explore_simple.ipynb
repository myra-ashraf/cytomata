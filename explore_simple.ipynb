{
 "cells": [
  {
   "cell_type": "code",
   "execution_count": 29,
   "metadata": {},
   "outputs": [],
   "source": [
    "from collections import OrderedDict, ChainMap\n",
    "import numpy as np\n",
    "import pandas as pd\n",
    "import tellurium as te\n",
    "import graphviz\n",
    "import matplotlib.pyplot as plt\n",
    "te.setDefaultPlottingEngine('matplotlib')\n",
    "% matplotlib inline"
   ]
  },
  {
   "cell_type": "code",
   "execution_count": 13,
   "metadata": {},
   "outputs": [
    {
     "data": {
      "text/plain": [
       "1.0"
      ]
     },
     "execution_count": 13,
     "metadata": {},
     "output_type": "execute_result"
    }
   ],
   "source": [
    "r = te.loada('''\n",
    "    v1=1; v2=1; v3=1; v4=1; v5=1; v6=1;\n",
    "    J1: -> S1; v1;\n",
    "    J2: S1 -> S2; v2;\n",
    "    J3: S2 -> ; v3;\n",
    "    J4: S3 -> S1; v4;\n",
    "    J5: S3 -> S2; v5;\n",
    "    J6: -> S3; v6;\n",
    "''')\n",
    "r.J3"
   ]
  },
  {
   "cell_type": "code",
   "execution_count": 24,
   "metadata": {},
   "outputs": [],
   "source": [
    "components = OrderedDict({\n",
    "    'resources': {'type': 'state', 'value': 100000.0, 'lower_bound': 0.0, 'upper_bound': 100000.0},\n",
    "    'growth': {'type': 'state', 'value': 0.0, 'lower_bound': 0.0, 'upper_bound': 1000.0},\n",
    "    'light460nm': {'type': 'stimulus', 'value': 0.0, 'lower_bound': 0.0, 'upper_bound': 1000.0},\n",
    "    'gene_nMag_T7RNAPn': {'type': 'gene', 'value': True},\n",
    "    'gene_pMag_T7RNAPc': {'type': 'gene', 'value': True},\n",
    "    'gene_pT7_CAR': {'type': 'gene', 'value': True},\n",
    "    'prot_nMag_T7RNAPn': {'type': 'protein', 'value': 0.0, 'lower_bound': 0.0, 'upper_bound': 1000.0},\n",
    "    'prot_pMag_T7RNAPc': {'type': 'protein', 'value': 0.0, 'lower_bound': 0.0, 'upper_bound': 1000.0},\n",
    "    'prot_Mag_T7RNAP': {'type': 'protein', 'value': 0.0, 'lower_bound': 0.0, 'upper_bound': 1000.0},\n",
    "    'prot_CAR': {'type': 'protein', 'value': 0.0, 'lower_bound': 0.0, 'upper_bound': 1000.0},\n",
    "    'prot_CAR_bound': {'type': 'protein', 'value': 0.0, 'lower_bound': 0.0, 'upper_bound': 10.0},\n",
    "})"
   ]
  },
  {
   "cell_type": "code",
   "execution_count": 36,
   "metadata": {},
   "outputs": [],
   "source": [
    "reactions = OrderedDict({\n",
    "    'constitutive nMag_T7RNAPn expression': {\n",
    "        'reactants': {'resources': -1.0},\n",
    "        'products': {'prot_nMag_T7RNAPn': 1.0},\n",
    "        'rate': 1.0,\n",
    "        'modifiers': None\n",
    "    },\n",
    "    'constitutive pMag_T7RNAPc expression': {\n",
    "        'reactants': {'resources': -1.0},\n",
    "        'products': {'prot_pMag_T7RNAPc': 1.0},\n",
    "        'rate': 1.0,\n",
    "        'modifiers': None\n",
    "    },\n",
    "    'light induced nMag-pMag dimerization': {\n",
    "        'reactants': {'prot_nMag_T7RNAPn': -1.0, 'prot_pMag_T7RNAPc': -1.0},\n",
    "        'products': {'prot_Mag_T7RNAP': 1.0},\n",
    "        'rate': 1.0,\n",
    "        'modifiers': {'light460nm': 'activator'}\n",
    "    },\n",
    "    'T7RNAP driven CAR expression': {\n",
    "        'reactants': {'resources': -1.0},\n",
    "        'products': {'prot_CAR': 1.0},\n",
    "        'rate': 1.0,\n",
    "        'modifiers': {'prot_Mag_T7RNAP': 'activator'}\n",
    "    },\n",
    "    'T-cell exhaustion': {\n",
    "        'reactants': {'prot_CAR': -1.0, 'resources': -1.0},\n",
    "        'products': {},\n",
    "        'rate': 1.0,\n",
    "        'modifiers': {'prot_CAR_bound': 'activator'}\n",
    "    },\n",
    "    'T-cell proliferation': {\n",
    "        'reactants': {'resources': -1.0},\n",
    "        'products': {'growth': 1.0},\n",
    "        'rate': 1.0,\n",
    "        'modifiers': None\n",
    "    },\n",
    "    'metabolism': {\n",
    "        'reactants': {},\n",
    "        'products': {'resources': 10.0},\n",
    "        'rate': 1.0,\n",
    "        'modifiers': None\n",
    "    },\n",
    "})"
   ]
  },
  {
   "cell_type": "code",
   "execution_count": 37,
   "metadata": {
    "scrolled": true
   },
   "outputs": [
    {
     "data": {
      "text/html": [
       "<div>\n",
       "<style scoped>\n",
       "    .dataframe tbody tr th:only-of-type {\n",
       "        vertical-align: middle;\n",
       "    }\n",
       "\n",
       "    .dataframe tbody tr th {\n",
       "        vertical-align: top;\n",
       "    }\n",
       "\n",
       "    .dataframe thead th {\n",
       "        text-align: right;\n",
       "    }\n",
       "</style>\n",
       "<table border=\"1\" class=\"dataframe\">\n",
       "  <thead>\n",
       "    <tr style=\"text-align: right;\">\n",
       "      <th></th>\n",
       "      <th>resources</th>\n",
       "      <th>growth</th>\n",
       "      <th>light460nm</th>\n",
       "      <th>gene_nMag_T7RNAPn</th>\n",
       "      <th>gene_pMag_T7RNAPc</th>\n",
       "      <th>gene_pT7_CAR</th>\n",
       "      <th>prot_nMag_T7RNAPn</th>\n",
       "      <th>prot_pMag_T7RNAPc</th>\n",
       "      <th>prot_Mag_T7RNAP</th>\n",
       "      <th>prot_CAR</th>\n",
       "      <th>prot_CAR_bound</th>\n",
       "    </tr>\n",
       "  </thead>\n",
       "  <tbody>\n",
       "    <tr>\n",
       "      <th>lower_bound</th>\n",
       "      <td>0</td>\n",
       "      <td>0</td>\n",
       "      <td>0</td>\n",
       "      <td>NaN</td>\n",
       "      <td>NaN</td>\n",
       "      <td>NaN</td>\n",
       "      <td>0</td>\n",
       "      <td>0</td>\n",
       "      <td>0</td>\n",
       "      <td>0</td>\n",
       "      <td>0</td>\n",
       "    </tr>\n",
       "    <tr>\n",
       "      <th>type</th>\n",
       "      <td>state</td>\n",
       "      <td>state</td>\n",
       "      <td>stimulus</td>\n",
       "      <td>gene</td>\n",
       "      <td>gene</td>\n",
       "      <td>gene</td>\n",
       "      <td>protein</td>\n",
       "      <td>protein</td>\n",
       "      <td>protein</td>\n",
       "      <td>protein</td>\n",
       "      <td>protein</td>\n",
       "    </tr>\n",
       "    <tr>\n",
       "      <th>upper_bound</th>\n",
       "      <td>100000</td>\n",
       "      <td>1000</td>\n",
       "      <td>1000</td>\n",
       "      <td>NaN</td>\n",
       "      <td>NaN</td>\n",
       "      <td>NaN</td>\n",
       "      <td>1000</td>\n",
       "      <td>1000</td>\n",
       "      <td>1000</td>\n",
       "      <td>1000</td>\n",
       "      <td>10</td>\n",
       "    </tr>\n",
       "    <tr>\n",
       "      <th>value</th>\n",
       "      <td>100000</td>\n",
       "      <td>0</td>\n",
       "      <td>0</td>\n",
       "      <td>True</td>\n",
       "      <td>True</td>\n",
       "      <td>True</td>\n",
       "      <td>0</td>\n",
       "      <td>0</td>\n",
       "      <td>0</td>\n",
       "      <td>0</td>\n",
       "      <td>0</td>\n",
       "    </tr>\n",
       "  </tbody>\n",
       "</table>\n",
       "</div>"
      ],
      "text/plain": [
       "            resources growth light460nm gene_nMag_T7RNAPn gene_pMag_T7RNAPc  \\\n",
       "lower_bound         0      0          0               NaN               NaN   \n",
       "type            state  state   stimulus              gene              gene   \n",
       "upper_bound    100000   1000       1000               NaN               NaN   \n",
       "value          100000      0          0              True              True   \n",
       "\n",
       "            gene_pT7_CAR prot_nMag_T7RNAPn prot_pMag_T7RNAPc prot_Mag_T7RNAP  \\\n",
       "lower_bound          NaN                 0                 0               0   \n",
       "type                gene           protein           protein         protein   \n",
       "upper_bound          NaN              1000              1000            1000   \n",
       "value               True                 0                 0               0   \n",
       "\n",
       "            prot_CAR prot_CAR_bound  \n",
       "lower_bound        0              0  \n",
       "type         protein        protein  \n",
       "upper_bound     1000             10  \n",
       "value              0              0  "
      ]
     },
     "execution_count": 37,
     "metadata": {},
     "output_type": "execute_result"
    }
   ],
   "source": [
    "pd.DataFrame(components)"
   ]
  },
  {
   "cell_type": "code",
   "execution_count": 38,
   "metadata": {},
   "outputs": [
    {
     "data": {
      "text/html": [
       "<div>\n",
       "<style scoped>\n",
       "    .dataframe tbody tr th:only-of-type {\n",
       "        vertical-align: middle;\n",
       "    }\n",
       "\n",
       "    .dataframe tbody tr th {\n",
       "        vertical-align: top;\n",
       "    }\n",
       "\n",
       "    .dataframe thead th {\n",
       "        text-align: right;\n",
       "    }\n",
       "</style>\n",
       "<table border=\"1\" class=\"dataframe\">\n",
       "  <thead>\n",
       "    <tr style=\"text-align: right;\">\n",
       "      <th></th>\n",
       "      <th>constitutive nMag_T7RNAPn expression</th>\n",
       "      <th>constitutive pMag_T7RNAPc expression</th>\n",
       "      <th>light induced nMag-pMag dimerization</th>\n",
       "      <th>T7RNAP driven CAR expression</th>\n",
       "      <th>T-cell exhaustion</th>\n",
       "      <th>T-cell proliferation</th>\n",
       "      <th>metabolism</th>\n",
       "    </tr>\n",
       "  </thead>\n",
       "  <tbody>\n",
       "    <tr>\n",
       "      <th>modifiers</th>\n",
       "      <td>None</td>\n",
       "      <td>None</td>\n",
       "      <td>{'light460nm': 'activator'}</td>\n",
       "      <td>{'prot_Mag_T7RNAP': 'activator'}</td>\n",
       "      <td>{'prot_CAR_bound': 'activator'}</td>\n",
       "      <td>None</td>\n",
       "      <td>None</td>\n",
       "    </tr>\n",
       "    <tr>\n",
       "      <th>products</th>\n",
       "      <td>{'prot_nMag_T7RNAPn': 1.0}</td>\n",
       "      <td>{'prot_pMag_T7RNAPc': 1.0}</td>\n",
       "      <td>{'prot_Mag_T7RNAP': 1.0}</td>\n",
       "      <td>{'prot_CAR': 1.0}</td>\n",
       "      <td>{}</td>\n",
       "      <td>{'growth': 1.0}</td>\n",
       "      <td>{'resources': 10.0}</td>\n",
       "    </tr>\n",
       "    <tr>\n",
       "      <th>rate</th>\n",
       "      <td>1</td>\n",
       "      <td>1</td>\n",
       "      <td>1</td>\n",
       "      <td>1</td>\n",
       "      <td>1</td>\n",
       "      <td>1</td>\n",
       "      <td>1</td>\n",
       "    </tr>\n",
       "    <tr>\n",
       "      <th>reactants</th>\n",
       "      <td>{'resources': -1.0}</td>\n",
       "      <td>{'resources': -1.0}</td>\n",
       "      <td>{'prot_nMag_T7RNAPn': -1.0, 'prot_pMag_T7RNAPc...</td>\n",
       "      <td>{'resources': -1.0}</td>\n",
       "      <td>{'prot_CAR': -1.0, 'resources': -1.0}</td>\n",
       "      <td>{'resources': -1.0}</td>\n",
       "      <td>{}</td>\n",
       "    </tr>\n",
       "  </tbody>\n",
       "</table>\n",
       "</div>"
      ],
      "text/plain": [
       "          constitutive nMag_T7RNAPn expression  \\\n",
       "modifiers                                 None   \n",
       "products            {'prot_nMag_T7RNAPn': 1.0}   \n",
       "rate                                         1   \n",
       "reactants                  {'resources': -1.0}   \n",
       "\n",
       "          constitutive pMag_T7RNAPc expression  \\\n",
       "modifiers                                 None   \n",
       "products            {'prot_pMag_T7RNAPc': 1.0}   \n",
       "rate                                         1   \n",
       "reactants                  {'resources': -1.0}   \n",
       "\n",
       "                        light induced nMag-pMag dimerization  \\\n",
       "modifiers                        {'light460nm': 'activator'}   \n",
       "products                            {'prot_Mag_T7RNAP': 1.0}   \n",
       "rate                                                       1   \n",
       "reactants  {'prot_nMag_T7RNAPn': -1.0, 'prot_pMag_T7RNAPc...   \n",
       "\n",
       "               T7RNAP driven CAR expression  \\\n",
       "modifiers  {'prot_Mag_T7RNAP': 'activator'}   \n",
       "products                  {'prot_CAR': 1.0}   \n",
       "rate                                      1   \n",
       "reactants               {'resources': -1.0}   \n",
       "\n",
       "                               T-cell exhaustion T-cell proliferation  \\\n",
       "modifiers        {'prot_CAR_bound': 'activator'}                 None   \n",
       "products                                      {}      {'growth': 1.0}   \n",
       "rate                                           1                    1   \n",
       "reactants  {'prot_CAR': -1.0, 'resources': -1.0}  {'resources': -1.0}   \n",
       "\n",
       "                    metabolism  \n",
       "modifiers                 None  \n",
       "products   {'resources': 10.0}  \n",
       "rate                         1  \n",
       "reactants                   {}  "
      ]
     },
     "execution_count": 38,
     "metadata": {},
     "output_type": "execute_result"
    }
   ],
   "source": [
    "pd.DataFrame(reactions)"
   ]
  },
  {
   "cell_type": "code",
   "execution_count": 28,
   "metadata": {},
   "outputs": [
    {
     "data": {
      "text/plain": [
       "9"
      ]
     },
     "execution_count": 28,
     "metadata": {},
     "output_type": "execute_result"
    }
   ],
   "source": [
    "list(components.keys()).index('prot_CAR')"
   ]
  },
  {
   "cell_type": "code",
   "execution_count": 53,
   "metadata": {},
   "outputs": [
    {
     "name": "stdout",
     "output_type": "stream",
     "text": [
      "ChainMap({'resources': -1.0}, {'prot_nMag_T7RNAPn': 1.0})\n",
      "['resources', 'growth', 'light460nm', 'gene_nMag_T7RNAPn', 'gene_pMag_T7RNAPc', 'gene_pT7_CAR', 'prot_nMag_T7RNAPn', 'prot_pMag_T7RNAPc', 'prot_Mag_T7RNAP', 'prot_CAR', 'prot_CAR_bound']\n",
      "['prot_nMag_T7RNAPn', 'resources']\n",
      "[6, 0]\n",
      "ChainMap({'resources': -1.0}, {'prot_pMag_T7RNAPc': 1.0})\n",
      "ChainMap({'prot_nMag_T7RNAPn': -1.0, 'prot_pMag_T7RNAPc': -1.0}, {'prot_Mag_T7RNAP': 1.0})\n",
      "ChainMap({'resources': -1.0}, {'prot_CAR': 1.0})\n",
      "ChainMap({'prot_CAR': -1.0, 'resources': -1.0}, {})\n",
      "ChainMap({'resources': -1.0}, {'growth': 1.0})\n",
      "ChainMap({}, {'resources': 10.0})\n"
     ]
    }
   ],
   "source": [
    "def get_matcell(components, reactions):\n",
    "    rinfos = list(reactions.values())\n",
    "    for n, r in enumerate(reactions):\n",
    "        stoichs = ChainMap(rinfos[n]['reactants'], rinfos[n]['products'])\n",
    "        print(stoichs)\n",
    "        if n == 0:\n",
    "            print(list(components.keys()))\n",
    "            print(list(stoichs.keys()))\n",
    "            m = [list(components.keys()).index(key) for key in list(stoichs.keys())]\n",
    "            print(m)\n",
    "#             print(list(stoichs.values()))\n",
    "        \n",
    "get_matcell(components, reactions)"
   ]
  },
  {
   "cell_type": "code",
   "execution_count": 23,
   "metadata": {},
   "outputs": [
    {
     "name": "stdout",
     "output_type": "stream",
     "text": [
      "{'reactants': {'resources': -1.0}, 'products': {'prot_nMag_T7RNAPn': 1.0}, 'rate': 1.0, 'modifiers': None}\n",
      "{'reactants': {'resources': -1.0}, 'products': {'prot_pMag_T7RNAPc': 1.0}, 'rate': 1.0, 'modifiers': None}\n",
      "{'reactants': {'prot_nMag_T7RNAPn': -1.0, 'prot_pMag_T7RNAPc': -1.0}, 'products': {'prot_Mag_T7RNAP': 1.0}, 'rate': 1.0, 'modifiers': {'light460nm': 'activator'}}\n",
      "{'reactants': {'resources': -1.0}, 'products': {'prot_CAR': 1.0}, 'rate': 1.0, 'modifiers': {'prot_Mag_T7RNAP': 'activator'}}\n",
      "{'reactants': {'prot_CAR': -1.0, 'resources': -1.0}, 'products': None, 'rate': 1.0, 'modifiers': {'prot_CAR_bound': 'activator'}}\n",
      "{'reactants': {'resources': -1.0}, 'products': {'growth': 1.0}, 'rate': 1.0, 'modifiers': None}\n",
      "{'reactants': None, 'products': {'resources': 10.0}, 'rate': 1.0, 'modifiers': None}\n"
     ]
    }
   ],
   "source": [
    "for rinfo in reactions.values():\n",
    "    component_names = rinfo['reactants']\n",
    "    col = list(components.keys()).index(component_name)"
   ]
  },
  {
   "cell_type": "code",
   "execution_count": null,
   "metadata": {},
   "outputs": [],
   "source": []
  },
  {
   "cell_type": "code",
   "execution_count": null,
   "metadata": {},
   "outputs": [],
   "source": []
  },
  {
   "cell_type": "code",
   "execution_count": null,
   "metadata": {},
   "outputs": [],
   "source": []
  },
  {
   "cell_type": "code",
   "execution_count": null,
   "metadata": {},
   "outputs": [],
   "source": []
  },
  {
   "cell_type": "code",
   "execution_count": null,
   "metadata": {},
   "outputs": [],
   "source": []
  },
  {
   "cell_type": "code",
   "execution_count": null,
   "metadata": {},
   "outputs": [],
   "source": []
  },
  {
   "cell_type": "code",
   "execution_count": null,
   "metadata": {},
   "outputs": [],
   "source": []
  },
  {
   "cell_type": "code",
   "execution_count": null,
   "metadata": {},
   "outputs": [],
   "source": []
  },
  {
   "cell_type": "code",
   "execution_count": null,
   "metadata": {},
   "outputs": [],
   "source": []
  },
  {
   "cell_type": "code",
   "execution_count": null,
   "metadata": {},
   "outputs": [],
   "source": []
  },
  {
   "cell_type": "code",
   "execution_count": null,
   "metadata": {},
   "outputs": [],
   "source": []
  },
  {
   "cell_type": "code",
   "execution_count": 16,
   "metadata": {},
   "outputs": [
    {
     "data": {
      "text/plain": [
       "array([[0., 0., 0., 0., 0.],\n",
       "       [0., 0., 0., 0., 0.],\n",
       "       [0., 0., 0., 0., 0.],\n",
       "       [0., 0., 0., 0., 0.],\n",
       "       [0., 0., 0., 0., 0.]])"
      ]
     },
     "execution_count": 16,
     "metadata": {},
     "output_type": "execute_result"
    }
   ],
   "source": [
    "S_matrix = np.zeros((5, 5))\n",
    "S_matrix"
   ]
  },
  {
   "cell_type": "code",
   "execution_count": 18,
   "metadata": {
    "scrolled": true
   },
   "outputs": [
    {
     "data": {
      "text/plain": [
       "array([[0., 0., 0., 0., 0.],\n",
       "       [0., 0., 0., 0., 0.],\n",
       "       [0., 0., 0., 1., 0.],\n",
       "       [0., 0., 0., 0., 0.],\n",
       "       [0., 0., 0., 0., 0.]])"
      ]
     },
     "execution_count": 18,
     "metadata": {},
     "output_type": "execute_result"
    }
   ],
   "source": [
    "S_matrix[2, 3] = 1.0\n",
    "S_matrix"
   ]
  },
  {
   "cell_type": "code",
   "execution_count": 47,
   "metadata": {},
   "outputs": [],
   "source": [
    "S_matrix = np.array([\n",
    "    [-1.0, -1.0, 0.0, -1.0, -1.0, -1.0, 10.0],\n",
    "    [0.0, 0.0, 0.0, 0.0, 0.0, 1.0, 0.0],\n",
    "    [1.0, 0.0, -1.0, 0.0, 0.0, 0.0, 0.0],\n",
    "    [0.0, 1.0, -1.0, 0.0, 0.0, 0.0, 0.0],\n",
    "    [0.0, 0.0, 1.0, 0.0, 0.0, 0.0, 0.0],\n",
    "    [0.0, 0.0, 0.0, 1.0, -1.0, 0.0, 0.0],\n",
    "])"
   ]
  },
  {
   "cell_type": "code",
   "execution_count": 48,
   "metadata": {},
   "outputs": [],
   "source": [
    "v_vector = np.array([rxn['rate'] for rxn in reactions.values()])"
   ]
  },
  {
   "cell_type": "code",
   "execution_count": 49,
   "metadata": {},
   "outputs": [
    {
     "data": {
      "text/plain": [
       "array([1., 1., 1., 1., 1., 1., 1.])"
      ]
     },
     "execution_count": 49,
     "metadata": {},
     "output_type": "execute_result"
    }
   ],
   "source": [
    "v_vector"
   ]
  },
  {
   "cell_type": "code",
   "execution_count": 53,
   "metadata": {},
   "outputs": [],
   "source": [
    "c_vector = np.array([100000.0, 0.0, 0.0, 0.0, 0.0, 0.0])"
   ]
  },
  {
   "cell_type": "code",
   "execution_count": 56,
   "metadata": {},
   "outputs": [],
   "source": [
    "c_vector = c_vector + np.matmul(S_matrix, v_vector)"
   ]
  },
  {
   "cell_type": "code",
   "execution_count": 57,
   "metadata": {},
   "outputs": [
    {
     "data": {
      "text/plain": [
       "array([1.0001e+05, 2.0000e+00, 0.0000e+00, 0.0000e+00, 2.0000e+00,\n",
       "       0.0000e+00])"
      ]
     },
     "execution_count": 57,
     "metadata": {},
     "output_type": "execute_result"
    }
   ],
   "source": [
    "c_vector"
   ]
  },
  {
   "cell_type": "code",
   "execution_count": 4,
   "metadata": {},
   "outputs": [],
   "source": [
    "class SubCellularNetwork(object):\n",
    "    \"\"\"Dynamics of subcellular components - genes, proteins, etc.\"\"\"\n",
    "    \n",
    "    def __init__(self):\n",
    "        self.components = {}\n",
    "        self.reactions = {}\n",
    "        \n",
    "    def add_components(self, components):\n",
    "        self.components.update(components)\n",
    "    \n",
    "    def remove_components(self, components):\n",
    "        [self.components.pop(component, None) for component in components]\n",
    "        \n",
    "    def add_reactions(self, reactions):\n",
    "        self.reactions.update(reactions)\n",
    "    \n",
    "    def remove_reactions(self, reactions):\n",
    "        [self.reactions.pop(reaction, None) for reaction in reactions]\n",
    "        \n",
    "    def update_stoich_matrix(self):\n",
    "        for reaction in self.reactions.values():\n",
    "            \n",
    "\n",
    "    def react(self, reactants, products, modifiers):\n",
    "        polarity_mapping = {'activator': 1.0, 'inhibitor': -1.0}\n",
    "        rate_modifier = 1.0\n",
    "        if modifiers:\n",
    "            for modifier, polarity in modifiers.items():\n",
    "                if type(self.components[modifier]['value']) == bool:\n",
    "                    rate_modifier = float(self.components[modifier]['value'])\n",
    "                else:\n",
    "                    rate_modifier = polarity_mapping[polarity] * 2*np.tanh(self.components[modifier]['value'])\n",
    "        if reactants:\n",
    "            for reactant_name, reactant_rate in reactants.items():\n",
    "                change = reactant_rate * rate_modifier\n",
    "                current = self.components[reactant_name]['value']\n",
    "                upper = self.components[reactant_name]['upper_bound']\n",
    "                lower = self.components[reactant_name]['lower_bound']\n",
    "                if lower < current + change < upper:\n",
    "                    self.components[reactant_name]['value'] += change\n",
    "        if products:\n",
    "            for product_name, product_rate in products.items():\n",
    "                change = product_rate * rate_modifier\n",
    "                current = self.components[product_name]['value']\n",
    "                upper = self.components[product_name]['upper_bound']\n",
    "                lower = self.components[product_name]['lower_bound']\n",
    "                if lower < current + change < upper:\n",
    "                    self.components[product_name]['value'] += change\n",
    "                    \n",
    "    \n",
    "            \n",
    "    def update(self):\n",
    "        [self.react(rxn['reactants'], rxn['products'], rxn['modifiers']) for rxn in self.reactions.values()]"
   ]
  },
  {
   "cell_type": "code",
   "execution_count": 5,
   "metadata": {},
   "outputs": [],
   "source": [
    "scn = SubCellularNetwork()"
   ]
  },
  {
   "cell_type": "code",
   "execution_count": 6,
   "metadata": {},
   "outputs": [],
   "source": [
    "scn.add_components(components)"
   ]
  },
  {
   "cell_type": "code",
   "execution_count": 7,
   "metadata": {},
   "outputs": [
    {
     "data": {
      "text/plain": [
       "{'gene_nMag_T7RNAPn': {'type': 'gene', 'value': True},\n",
       " 'gene_pMag_T7RNAPc': {'type': 'gene', 'value': True},\n",
       " 'gene_pT7_CAR': {'type': 'gene', 'value': True},\n",
       " 'growth': {'lower_bound': 0.0,\n",
       "  'type': 'state',\n",
       "  'upper_bound': 1000.0,\n",
       "  'value': 0.0},\n",
       " 'light460nm': {'lower_bound': 0.0,\n",
       "  'type': 'stimulus',\n",
       "  'upper_bound': 1000.0,\n",
       "  'value': 0.0},\n",
       " 'prot_CAR': {'lower_bound': 0.0,\n",
       "  'type': 'protein',\n",
       "  'upper_bound': 1000.0,\n",
       "  'value': 0.0},\n",
       " 'prot_CAR_bound': {'lower_bound': 0.0,\n",
       "  'type': 'protein',\n",
       "  'upper_bound': 10.0,\n",
       "  'value': 0.0},\n",
       " 'prot_Mag_T7RNAP': {'lower_bound': 0.0,\n",
       "  'type': 'protein',\n",
       "  'upper_bound': 1000.0,\n",
       "  'value': 0.0},\n",
       " 'prot_nMag_T7RNAPn': {'lower_bound': 0.0,\n",
       "  'type': 'protein',\n",
       "  'upper_bound': 1000.0,\n",
       "  'value': 0.0},\n",
       " 'prot_pMag_T7RNAPc': {'lower_bound': 0.0,\n",
       "  'type': 'protein',\n",
       "  'upper_bound': 1000.0,\n",
       "  'value': 0.0},\n",
       " 'resources': {'lower_bound': 0.0,\n",
       "  'type': 'state',\n",
       "  'upper_bound': 100000.0,\n",
       "  'value': 100000.0}}"
      ]
     },
     "execution_count": 7,
     "metadata": {},
     "output_type": "execute_result"
    }
   ],
   "source": [
    "scn.components"
   ]
  },
  {
   "cell_type": "code",
   "execution_count": 8,
   "metadata": {},
   "outputs": [],
   "source": [
    "scn.add_reactions(reactions)"
   ]
  },
  {
   "cell_type": "code",
   "execution_count": 9,
   "metadata": {},
   "outputs": [
    {
     "data": {
      "text/plain": [
       "{'T-cell exhaustion': {'modifiers': {'prot_CAR_bound': 'activator'},\n",
       "  'products': None,\n",
       "  'reactants': {'prot_CAR': -1.0, 'resources': -1.0}},\n",
       " 'T-cell proliferation': {'modifiers': None,\n",
       "  'products': {'growth': 1.0},\n",
       "  'reactants': {'resources': -1.0}},\n",
       " 'T7RNAP driven CAR expression': {'modifiers': {'prot_Mag_T7RNAP': 'activator'},\n",
       "  'products': {'prot_CAR': 1.0},\n",
       "  'reactants': {'resources': -1.0}},\n",
       " 'constitutive nMag_T7RNAPn expression': {'modifiers': None,\n",
       "  'products': {'prot_nMag_T7RNAPn': 1.0},\n",
       "  'reactants': {'resources': -1.0}},\n",
       " 'constitutive pMag_T7RNAPc expression': {'modifiers': None,\n",
       "  'products': {'prot_pMag_T7RNAPc': 1.0},\n",
       "  'reactants': {'resources': -1.0}},\n",
       " 'light induced nMag-pMag dimerization': {'modifiers': {'light460nm': 'activator'},\n",
       "  'products': {'prot_Mag_T7RNAP': 1.0},\n",
       "  'reactants': {'prot_nMag_T7RNAPn': -1.0, 'prot_pMag_T7RNAPc': -1.0}},\n",
       " 'metabolism': {'modifiers': None,\n",
       "  'products': {'resources': 10.0},\n",
       "  'reactants': None}}"
      ]
     },
     "execution_count": 9,
     "metadata": {},
     "output_type": "execute_result"
    }
   ],
   "source": [
    "scn.reactions"
   ]
  },
  {
   "cell_type": "code",
   "execution_count": 10,
   "metadata": {},
   "outputs": [],
   "source": [
    "car = []\n",
    "nmag_t7rnap = []\n",
    "for i in range(100):\n",
    "    scn.components['light460nm']['value'] += 1.0\n",
    "    scn.update()\n",
    "    car.append(scn.components['prot_CAR']['value'])\n",
    "    nmag_t7rnap.append(scn.components['prot_nMag_T7RNAPn']['value'])"
   ]
  },
  {
   "cell_type": "code",
   "execution_count": 11,
   "metadata": {},
   "outputs": [
    {
     "data": {
      "text/plain": [
       "[<matplotlib.lines.Line2D at 0x7ff8d1c7f278>]"
      ]
     },
     "execution_count": 11,
     "metadata": {},
     "output_type": "execute_result"
    },
    {
     "data": {
      "image/png": "[encoded data removed]",
      "text/plain": [
       "<matplotlib.figure.Figure at 0x7ff8d1c7f400>"
      ]
     },
     "metadata": {},
     "output_type": "display_data"
    }
   ],
   "source": [
    "plt.plot(np.array(car))\n",
    "plt.plot(np.array(nmag_t7rnap))"
   ]
  },
  {
   "cell_type": "code",
   "execution_count": 12,
   "metadata": {},
   "outputs": [
    {
     "data": {
      "text/plain": [
       "{'gene_nMag_T7RNAPn': {'type': 'gene', 'value': True},\n",
       " 'gene_pMag_T7RNAPc': {'type': 'gene', 'value': True},\n",
       " 'gene_pT7_CAR': {'type': 'gene', 'value': True},\n",
       " 'growth': {'lower_bound': 0.0,\n",
       "  'type': 'state',\n",
       "  'upper_bound': 1000.0,\n",
       "  'value': 100.0},\n",
       " 'light460nm': {'lower_bound': 0.0,\n",
       "  'type': 'stimulus',\n",
       "  'upper_bound': 1000.0,\n",
       "  'value': 100.0},\n",
       " 'prot_CAR': {'lower_bound': 0.0,\n",
       "  'type': 'protein',\n",
       "  'upper_bound': 1000.0,\n",
       "  'value': 199.81440973252396},\n",
       " 'prot_CAR_bound': {'lower_bound': 0.0,\n",
       "  'type': 'protein',\n",
       "  'upper_bound': 10.0,\n",
       "  'value': 0.0},\n",
       " 'prot_Mag_T7RNAP': {'lower_bound': 0.0,\n",
       "  'type': 'protein',\n",
       "  'upper_bound': 1000.0,\n",
       "  'value': 199.43980156403381},\n",
       " 'prot_nMag_T7RNAPn': {'lower_bound': 0.0,\n",
       "  'type': 'protein',\n",
       "  'upper_bound': 1000.0,\n",
       "  'value': 0.07331127560772632},\n",
       " 'prot_pMag_T7RNAPc': {'lower_bound': 0.0,\n",
       "  'type': 'protein',\n",
       "  'upper_bound': 1000.0,\n",
       "  'value': 0.07331127560772632},\n",
       " 'resources': {'lower_bound': 0.0,\n",
       "  'type': 'state',\n",
       "  'upper_bound': 100000.0,\n",
       "  'value': 99990.18559026749}}"
      ]
     },
     "execution_count": 12,
     "metadata": {},
     "output_type": "execute_result"
    }
   ],
   "source": [
    "scn.components"
   ]
  },
  {
   "cell_type": "code",
   "execution_count": 13,
   "metadata": {},
   "outputs": [],
   "source": [
    "# Need upper and lower bounds for components"
   ]
  }
 ],
 "metadata": {
  "kernelspec": {
   "display_name": "Python 3",
   "language": "python",
   "name": "python3"
  },
  "language_info": {
   "codemirror_mode": {
    "name": "ipython",
    "version": 3
   },
   "file_extension": ".py",
   "mimetype": "text/x-python",
   "name": "python",
   "nbconvert_exporter": "python",
   "pygments_lexer": "ipython3",
   "version": "3.6.4"
  }
 },
 "nbformat": 4,
 "nbformat_minor": 2
}
