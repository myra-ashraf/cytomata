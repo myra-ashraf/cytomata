{
 "cells": [
  {
   "cell_type": "code",
   "execution_count": 1,
   "metadata": {},
   "outputs": [],
   "source": [
    "from cobra import Model, Reaction, Metabolite"
   ]
  },
  {
   "cell_type": "code",
   "execution_count": 2,
   "metadata": {},
   "outputs": [],
   "source": [
    "tcell_model = Model('tcell')"
   ]
  },
  {
   "cell_type": "code",
   "execution_count": 3,
   "metadata": {},
   "outputs": [],
   "source": [
    "magnet_dimerization = Reaction('magnet_dimerization')\n",
    "magnet_dimerization.name = 'Dimerization of nMag_T7RNAPn-pMag_T7RNAPc proteins in response to 460nm blue light'\n",
    "magnet_dimerization.subsystem = 'Light Inducible CAR'\n",
    "magnet_dimerization.lower_bound = -1000.\n",
    "magnet_dimerization.upper_bound = 1000.\n",
    "\n",
    "nMag_T7RNAPn = Metabolite(\n",
    "    'nMag_T7RNAPn',\n",
    "    name='nMag-linked-T7RNAP-Nterminal',\n",
    "    compartment='c')\n",
    "pMag_T7RNAPc = Metabolite(\n",
    "    'pMag_T7RNAPc',\n",
    "    name='pMag-linked-T7RNAP-Cterminal',\n",
    "    compartment='c')\n",
    "Mag_T7RNAP = Metabolite(\n",
    "    'Mag_T7RNAP',\n",
    "    name='dimerized-Mag-T7RNAP',\n",
    "    compartment='c')\n",
    "\n",
    "magnet_dimerization.add_metabolites({\n",
    "    nMag_T7RNAPn: -1.0,\n",
    "    pMag_T7RNAPc: -1.0,\n",
    "    Mag_T7RNAP: 1.0,\n",
    "})\n",
    "\n",
    "magnet_dimerization.gene_reaction_rule = '(nMag_T7RNAPn and pMag_T7RNAPc)'\n",
    "tcell_model.add_reactions([magnet_dimerization])"
   ]
  },
  {
   "cell_type": "code",
   "execution_count": 4,
   "metadata": {},
   "outputs": [],
   "source": [
    "car_expression = Reaction('car_expression')\n",
    "car_expression.name = 'Production of chimeric antigen receptors in response to T7RNAP binding to T7 promoter'\n",
    "car_expression.subsystem = 'Light Inducible CAR'\n",
    "car_expression.lower_bound = 0.0\n",
    "car_expression.upper_bound = 1000.\n",
    "\n",
    "CAR = Metabolite(\n",
    "    'CAR',\n",
    "    name='chimeric antigen receptor',\n",
    "    compartment='c')\n",
    "\n",
    "car_expression.add_metabolites({\n",
    "    Mag_T7RNAP: 0.0,\n",
    "    CAR: 1.0,\n",
    "})\n",
    "\n",
    "car_expression.gene_reaction_rule = 'T7_CAR'\n",
    "tcell_model.add_reactions([car_expression])"
   ]
  },
  {
   "cell_type": "code",
   "execution_count": 5,
   "metadata": {},
   "outputs": [
    {
     "name": "stdout",
     "output_type": "stream",
     "text": [
      "2 reaction\n",
      "4 metabolites\n",
      "3 genes\n"
     ]
    }
   ],
   "source": [
    "print('%i reaction' % len(tcell_model.reactions))\n",
    "print('%i metabolites' % len(tcell_model.metabolites))\n",
    "print('%i genes' % len(tcell_model.genes))"
   ]
  },
  {
   "cell_type": "code",
   "execution_count": 6,
   "metadata": {},
   "outputs": [
    {
     "data": {
      "text/html": [
       "\n",
       "        <table>\n",
       "            <tr>\n",
       "                <td><strong>Reaction identifier</strong></td><td>car_expression</td>\n",
       "            </tr><tr>\n",
       "                <td><strong>Name</strong></td><td>Production of chimeric antigen receptors in response to T7RNAP binding to T7 promoter</td>\n",
       "            </tr><tr>\n",
       "                <td><strong>Memory address</strong></td>\n",
       "                <td>0x07fa6f6827198</td>\n",
       "            </tr><tr>\n",
       "                <td><strong>Stoichiometry</strong></td>\n",
       "                <td>\n",
       "                    <p style='text-align:right'> --> CAR</p>\n",
       "                    <p style='text-align:right'> --> chimeric antigen receptor</p>\n",
       "                </td>\n",
       "            </tr><tr>\n",
       "                <td><strong>GPR</strong></td><td>T7_CAR</td>\n",
       "            </tr><tr>\n",
       "                <td><strong>Lower bound</strong></td><td>0.0</td>\n",
       "            </tr><tr>\n",
       "                <td><strong>Upper bound</strong></td><td>1000.0</td>\n",
       "            </tr>\n",
       "        </table>\n",
       "        "
      ],
      "text/plain": [
       "<Reaction car_expression at 0x7fa6f6827198>"
      ]
     },
     "execution_count": 6,
     "metadata": {},
     "output_type": "execute_result"
    }
   ],
   "source": [
    "car_expression"
   ]
  },
  {
   "cell_type": "code",
   "execution_count": null,
   "metadata": {},
   "outputs": [],
   "source": []
  }
 ],
 "metadata": {
  "kernelspec": {
   "display_name": "Python 3",
   "language": "python",
   "name": "python3"
  },
  "language_info": {
   "codemirror_mode": {
    "name": "ipython",
    "version": 3
   },
   "file_extension": ".py",
   "mimetype": "text/x-python",
   "name": "python",
   "nbconvert_exporter": "python",
   "pygments_lexer": "ipython3",
   "version": "3.6.4"
  }
 },
 "nbformat": 4,
 "nbformat_minor": 2
}
